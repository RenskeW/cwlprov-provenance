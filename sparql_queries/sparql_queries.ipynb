{
 "cells": [
  {
   "cell_type": "markdown",
   "metadata": {},
   "source": [
    "# SPARQL queries of CWLProv provenance files\n",
    "This document provides an overview of different SPARQL queries, together with their (expected) result."
   ]
  },
  {
   "cell_type": "markdown",
   "metadata": {},
   "source": [
    "## Import modules & queries"
   ]
  },
  {
   "cell_type": "code",
   "execution_count": 2,
   "metadata": {},
   "outputs": [],
   "source": [
    "import os\n",
    "import rdflib\n",
    "from pathlib import Path"
   ]
  },
  {
   "cell_type": "code",
   "execution_count": 3,
   "metadata": {},
   "outputs": [],
   "source": [
    "cwd = Path(os.getcwd())\n",
    "queries_dir = cwd / 'queries'"
   ]
  },
  {
   "cell_type": "markdown",
   "metadata": {},
   "source": [
    "## Functions"
   ]
  },
  {
   "cell_type": "code",
   "execution_count": 4,
   "metadata": {},
   "outputs": [],
   "source": [
    "def run_query(rdf_file, query_file):\n",
    "    \"\"\"\n",
    "    file = RDF file; query_file = path to sparql query file.\n",
    "    \"\"\"\n",
    "    g = rdflib.Graph()\n",
    "    g.parse(rdf_file)\n",
    "    with open(query_file, 'r')  as f:\n",
    "        query = f.read()\n",
    "        \n",
    "    qres = g.query(query)\n",
    "    \n",
    "    return qres"
   ]
  },
  {
   "cell_type": "markdown",
   "metadata": {},
   "source": [
    "## SPARQL queries"
   ]
  },
  {
   "cell_type": "markdown",
   "metadata": {},
   "source": [
    "List all the Docker images used in this workflow run."
   ]
  },
  {
   "cell_type": "code",
   "execution_count": 5,
   "metadata": {},
   "outputs": [
    {
     "name": "stdout",
     "output_type": "stream",
     "text": [
      "arcp://uuid,a914217a-5cd2-457d-85cc-7472eeb17bfd/workflow/packed.cwl#main/generate_pc7 used amancevice/pandas:1.3.4-slim\n"
     ]
    }
   ],
   "source": [
    "provenance_file = cwd / \"labels_wf_primary_cwlprov.ttl\" # replace this with provenance file of full workflow run\n",
    "extract_images_query = queries_dir / \"docker_images.sparql\"\n",
    "response = run_query(provenance_file, extract_images_query)\n",
    "for row in response:\n",
    "    print(f\"{row.step} used {row.image}\")\n"
   ]
  },
  {
   "cell_type": "markdown",
   "metadata": {},
   "source": [
    "List every entity that has a DOI."
   ]
  },
  {
   "cell_type": "code",
   "execution_count": 19,
   "metadata": {},
   "outputs": [
    {
     "name": "stdout",
     "output_type": "stream",
     "text": [
      "<doi>\n",
      "<doi>\n",
      "dataset_identifier\n"
     ]
    }
   ],
   "source": [
    "provenance_file = cwd / 'data_ann_ex1_primary.cwlprov.ttl' # replace this with provenance file of full workflow run\n",
    "extract_doi_query = queries_dir / 'dois.sparql'\n",
    "response = run_query(provenance_file, extract_doi_query)\n",
    "for row in response:\n",
    "    print(f\"{row.doi}\")"
   ]
  },
  {
   "cell_type": "markdown",
   "metadata": {},
   "source": [
    "Extract the formats of all files for which this is specified."
   ]
  },
  {
   "cell_type": "code",
   "execution_count": 18,
   "metadata": {},
   "outputs": [
    {
     "name": "stdout",
     "output_type": "stream",
     "text": [
      "sabdab_summary_all_20220527.tsv has format https://www.iana.org/assignments/media-types/text/tab-separated-values\n",
      "7mb7.cif has format http://edamontology.org/format_1477\n",
      "7zxf.cif has format http://edamontology.org/format_1477\n"
     ]
    }
   ],
   "source": [
    "provenance_file = cwd / 'data_ann_ex2_primary.cwlprov.ttl'\n",
    "extract_format_query = queries_dir / 'format.sparql'\n",
    "response = run_query(provenance_file, extract_format_query)\n",
    "for row in response:\n",
    "    print(f\"{row.basename} has format {row.format}\")"
   ]
  },
  {
   "cell_type": "code",
   "execution_count": 9,
   "metadata": {},
   "outputs": [
    {
     "data": {
      "text/plain": [
       "<rdflib.plugins.sparql.processor.SPARQLResult at 0x7fd6944bbfa0>"
      ]
     },
     "execution_count": 9,
     "metadata": {},
     "output_type": "execute_result"
    }
   ],
   "source": []
  },
  {
   "cell_type": "code",
   "execution_count": null,
   "metadata": {},
   "outputs": [],
   "source": []
  }
 ],
 "metadata": {
  "interpreter": {
   "hash": "c62268e61c4afe27ae9b7b489ddf7635acdf5c92443b5735506dfc7de80cd647"
  },
  "kernelspec": {
   "display_name": "Python 3.8.8 ('base')",
   "language": "python",
   "name": "python3"
  },
  "language_info": {
   "codemirror_mode": {
    "name": "ipython",
    "version": 3
   },
   "file_extension": ".py",
   "mimetype": "text/x-python",
   "name": "python",
   "nbconvert_exporter": "python",
   "pygments_lexer": "ipython3",
   "version": "3.8.8"
  },
  "orig_nbformat": 4
 },
 "nbformat": 4,
 "nbformat_minor": 2
}
